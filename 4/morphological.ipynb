{
 "cells": [
  {
   "cell_type": "code",
   "execution_count": 1,
   "metadata": {},
   "outputs": [
    {
     "name": "stdout",
     "output_type": "stream",
     "text": [
      "{'surface': '\\u3000', 'base': '\\u3000', 'pos': '記号', 'pos1': '空白'}\n",
      "{'surface': '吾輩', 'base': '吾輩', 'pos': '名詞', 'pos1': '代名詞'}\n",
      "{'surface': 'は', 'base': 'は', 'pos': '助詞', 'pos1': '係助詞'}\n",
      "{'surface': '猫', 'base': '猫', 'pos': '名詞', 'pos1': '一般'}\n",
      "{'surface': 'で', 'base': 'だ', 'pos': '助動詞', 'pos1': '*'}\n",
      "{'surface': 'ある', 'base': 'ある', 'pos': '助動詞', 'pos1': '*'}\n",
      "{'surface': '。', 'base': '。', 'pos': '記号', 'pos1': '句点'}\n"
     ]
    }
   ],
   "source": [
    "#形態素解析結果の読み込み\n",
    "filename = './neko.txt.mecab'\n",
    "\n",
    "sentences = []\n",
    "morphs = []\n",
    "with open(filename, mode='r') as f:\n",
    "  for line in f: \n",
    "    if line != 'EOS\\n': \n",
    "      fields = line.split('\\t')\n",
    "      if len(fields) != 2 or fields[0] == '':  \n",
    "        continue\n",
    "      else:\n",
    "        attr =  fields[1].split(',')\n",
    "        morph = {'surface': fields[0], 'base': attr[6], 'pos': attr[0], 'pos1': attr[1]}\n",
    "        morphs.append(morph)\n",
    "    else:  \n",
    "      sentences.append(morphs)\n",
    "      morphs = []\n",
    "\n",
    "# 確認\n",
    "for morph in sentences[2]:\n",
    "  print(morph)"
   ]
  },
  {
   "cell_type": "code",
   "execution_count": 2,
   "metadata": {},
   "outputs": [
    {
     "name": "stdout",
     "output_type": "stream",
     "text": [
      "動詞の表層形の種類: 3893\n",
      "\n",
      "---サンプル---\n",
      "引っかかっ\n",
      "落ち\n",
      "なら\n",
      "のべる\n",
      "泊っ\n",
      "触る\n",
      "求める\n",
      "伝える\n",
      "忘れる\n",
      "控え\n"
     ]
    }
   ],
   "source": [
    "#31 動詞\n",
    "ans = set()\n",
    "for sentence in sentences:\n",
    "  for morph in sentence:\n",
    "    if morph['pos'] == '動詞':\n",
    "      ans.add(morph['surface'])  # set型なので重複しない要素のみ保持していく\n",
    "\n",
    "# 確認\n",
    "print(f'動詞の表層形の種類: {len(ans)}\\n')\n",
    "print('---サンプル---')\n",
    "for v in list(ans)[:10]:\n",
    "  print(v)"
   ]
  },
  {
   "cell_type": "code",
   "execution_count": 3,
   "metadata": {},
   "outputs": [
    {
     "name": "stdout",
     "output_type": "stream",
     "text": [
      "動詞の原形の種類: 2300\n",
      "\n",
      "---サンプル---\n",
      "のべる\n",
      "触る\n",
      "打てる\n",
      "求める\n",
      "伝える\n",
      "照らす\n",
      "忘れる\n",
      "ちょろまかす\n",
      "溯る\n",
      "取りとめる\n"
     ]
    }
   ],
   "source": [
    "#32 動詞の基本形\n",
    "ans = set()\n",
    "for sentence in sentences:\n",
    "    for morph in sentence:\n",
    "        if morph['pos']=='動詞':\n",
    "            ans.add(morph['base'])\n",
    "\n",
    "print(f'動詞の原形の種類: {len(ans)}\\n')\n",
    "print('---サンプル---')\n",
    "for v in list(ans)[:10]:\n",
    "  print(v)"
   ]
  },
  {
   "cell_type": "code",
   "execution_count": 6,
   "metadata": {},
   "outputs": [
    {
     "name": "stdout",
     "output_type": "stream",
     "text": [
      "「名詞+の+名詞」の種類: 4924\n",
      "\n",
      "---サンプル---\n",
      "演習のため\n",
      "段の紅\n",
      "中止の姿\n",
      "国のもの\n",
      "昔の夫婦\n",
      "勉強の邪魔\n",
      "華厳の滝\n",
      "保護のため\n",
      "朋友の許\n",
      "養子の代\n"
     ]
    }
   ],
   "source": [
    "#33 「AのB」\n",
    "ans = set()\n",
    "for sentence in sentences:\n",
    "    for i in range(1,len(sentence)-1):\n",
    "        if sentence[i-1]['pos']=='名詞' and sentence[i]['surface']=='の' and sentence[i+1]['pos']=='名詞':\n",
    "            ans.add(sentence[i - 1]['surface'] + sentence[i]['surface'] + sentence[i + 1]['surface'])\n",
    "\n",
    "print(f'「名詞+の+名詞」の種類: {len(ans)}\\n')\n",
    "print('---サンプル---')\n",
    "for n in list(ans)[:10]:\n",
    "  print(n)"
   ]
  }
 ],
 "metadata": {
  "kernelspec": {
   "display_name": "Python 3.8.10 ('language_processing')",
   "language": "python",
   "name": "python3"
  },
  "language_info": {
   "codemirror_mode": {
    "name": "ipython",
    "version": 3
   },
   "file_extension": ".py",
   "mimetype": "text/x-python",
   "name": "python",
   "nbconvert_exporter": "python",
   "pygments_lexer": "ipython3",
   "version": "3.8.10"
  },
  "orig_nbformat": 4,
  "vscode": {
   "interpreter": {
    "hash": "da1f0a6cd2aa4593ba141d857fda12be4273e28634c29dc77b19230ead6ef076"
   }
  }
 },
 "nbformat": 4,
 "nbformat_minor": 2
}
